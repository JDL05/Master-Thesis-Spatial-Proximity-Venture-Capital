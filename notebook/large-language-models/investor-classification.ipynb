{
 "cells": [
  {
   "cell_type": "markdown",
   "id": "60e6bb3d",
   "metadata": {},
   "source": [
    "# Investor Focus Classification"
   ]
  },
  {
   "cell_type": "code",
   "execution_count": null,
   "id": "82a88af8396d50e0",
   "metadata": {
    "ExecuteTime": {
     "end_time": "2025-05-10T19:18:43.223606Z",
     "start_time": "2025-05-10T19:18:43.219721Z"
    }
   },
   "outputs": [],
   "source": [
    "import os\n",
    "\n",
    "os.chdir('/Users/janlinzner/Projects/Master-Thesis-Spatial-Proximity-Venture-Capital')"
   ]
  },
  {
   "cell_type": "code",
   "execution_count": 2,
   "id": "ee123b29287107e2",
   "metadata": {
    "ExecuteTime": {
     "end_time": "2025-05-10T19:18:46.738479Z",
     "start_time": "2025-05-10T19:18:44.021742Z"
    }
   },
   "outputs": [],
   "source": [
    "from datasets import load_dataset\n",
    "from transformers import (\n",
    "    AutoTokenizer,\n",
    "    AutoModelForSequenceClassification,\n",
    "    TrainingArguments,\n",
    "    Trainer,\n",
    "    DataCollatorWithPadding\n",
    ")\n",
    "import pandas as pd"
   ]
  },
  {
   "cell_type": "code",
   "execution_count": null,
   "id": "1c6261ef763dd039",
   "metadata": {
    "ExecuteTime": {
     "end_time": "2025-05-10T19:18:47.651408Z",
     "start_time": "2025-05-10T19:18:47.235707Z"
    }
   },
   "outputs": [],
   "source": [
    "data_files = {\n",
    "    \"train\":   \"data/industry-focus/industry_focus_save.csv\",   # has Description & Industry-Specific VC Binary\n",
    "    \"predict\": \"data/industry-focus/industry_focus.csv\"        # has Description only\n",
    "}\n",
    "\n",
    "ds = load_dataset(\"csv\", data_files=data_files)\n",
    "\n",
    "ds[\"train\"] = ds[\"train\"] \\\n",
    "    .rename_column(\"Description\", \"text\") \\\n",
    "    .rename_column(\"Industry-Specific VC Binary\", \"label\")\n",
    "\n",
    "ds[\"predict\"] = ds[\"predict\"] \\\n",
    "    .rename_column(\"Description\", \"text\")"
   ]
  },
  {
   "cell_type": "code",
   "execution_count": null,
   "id": "8fa3dc29eddcef43",
   "metadata": {
    "ExecuteTime": {
     "end_time": "2025-05-10T19:18:49.324093Z",
     "start_time": "2025-05-10T19:18:48.942897Z"
    }
   },
   "outputs": [
    {
     "name": "stderr",
     "output_type": "stream",
     "text": [
      "Some weights of DistilBertForSequenceClassification were not initialized from the model checkpoint at distilbert-base-uncased and are newly initialized: ['classifier.bias', 'classifier.weight', 'pre_classifier.bias', 'pre_classifier.weight']\n",
      "You should probably TRAIN this model on a down-stream task to be able to use it for predictions and inference.\n"
     ]
    }
   ],
   "source": [
    "model_name = \"distilbert-base-uncased\" \n",
    "tokenizer  = AutoTokenizer.from_pretrained(model_name)\n",
    "model      = AutoModelForSequenceClassification.from_pretrained(\n",
    "    model_name,\n",
    "    num_labels=2                     \n",
    ")"
   ]
  },
  {
   "cell_type": "code",
   "execution_count": null,
   "id": "4d46199737d94497",
   "metadata": {
    "ExecuteTime": {
     "end_time": "2025-05-10T19:18:50.776536Z",
     "start_time": "2025-05-10T19:18:50.767358Z"
    }
   },
   "outputs": [],
   "source": [
    "def preprocess_train(batch):\n",
    "    toks = tokenizer(\n",
    "        batch[\"text\"],\n",
    "        truncation=True,\n",
    "        padding=\"max_length\",\n",
    "        max_length=128\n",
    "    )\n",
    "    toks[\"labels\"] = batch[\"label\"] \n",
    "    return toks\n",
    "\n",
    "ds[\"train\"] = ds[\"train\"].map(\n",
    "    preprocess_train,\n",
    "    batched=True,\n",
    "    remove_columns=[\n",
    "        \"Organization/Person Name\",\n",
    "        \"Organization/Person Name URL\",\n",
    "        \"text\",\n",
    "        \"label\"\n",
    "    ]\n",
    ")"
   ]
  },
  {
   "cell_type": "code",
   "execution_count": null,
   "id": "8e55baa8942af89e",
   "metadata": {
    "ExecuteTime": {
     "end_time": "2025-05-10T19:18:52.448696Z",
     "start_time": "2025-05-10T19:18:52.436836Z"
    }
   },
   "outputs": [],
   "source": [
    "def preprocess_predict(batch):\n",
    "    return tokenizer(\n",
    "        batch[\"text\"],\n",
    "        truncation=True,\n",
    "        padding=\"max_length\",\n",
    "        max_length=128\n",
    "    )\n",
    "\n",
    "ds[\"predict\"] = ds[\"predict\"].map(\n",
    "    preprocess_predict,\n",
    "    batched=True,\n",
    "    remove_columns=[\"text\"]\n",
    ")"
   ]
  },
  {
   "cell_type": "code",
   "execution_count": 7,
   "id": "326201cdc0aeb882",
   "metadata": {
    "ExecuteTime": {
     "end_time": "2025-05-10T19:18:53.914408Z",
     "start_time": "2025-05-10T19:18:53.910369Z"
    }
   },
   "outputs": [],
   "source": [
    "data_collator = DataCollatorWithPadding(tokenizer)"
   ]
  },
  {
   "cell_type": "code",
   "execution_count": null,
   "id": "474bdf2e1af16316",
   "metadata": {
    "ExecuteTime": {
     "end_time": "2025-05-10T19:18:55.842658Z",
     "start_time": "2025-05-10T19:18:55.819768Z"
    }
   },
   "outputs": [],
   "source": [
    "training_args = TrainingArguments(\n",
    "    output_dir=\"distilbert_finetuned_vc\",\n",
    "    per_device_train_batch_size=8,\n",
    "    gradient_accumulation_steps=2,\n",
    "    num_train_epochs=3,\n",
    "    logging_steps=50,\n",
    "    save_total_limit=1\n",
    ")"
   ]
  },
  {
   "cell_type": "code",
   "execution_count": 9,
   "id": "a77142c67c89ffed",
   "metadata": {
    "ExecuteTime": {
     "end_time": "2025-05-10T19:18:57.792945Z",
     "start_time": "2025-05-10T19:18:57.317376Z"
    }
   },
   "outputs": [
    {
     "name": "stderr",
     "output_type": "stream",
     "text": [
      "/var/folders/n8/ynbdx9r10lv6l8yh1m_hmbsh0000gn/T/ipykernel_11906/2993570117.py:1: FutureWarning: `tokenizer` is deprecated and will be removed in version 5.0.0 for `Trainer.__init__`. Use `processing_class` instead.\n",
      "  trainer = Trainer(\n"
     ]
    }
   ],
   "source": [
    "trainer = Trainer(\n",
    "    model=model,\n",
    "    args=training_args,\n",
    "    train_dataset=ds[\"train\"],\n",
    "    data_collator=data_collator,\n",
    "    tokenizer=tokenizer\n",
    ")"
   ]
  },
  {
   "cell_type": "code",
   "execution_count": 10,
   "id": "429da4f7d30c6876",
   "metadata": {
    "ExecuteTime": {
     "end_time": "2025-05-10T19:26:45.286009Z",
     "start_time": "2025-05-10T19:18:59.686149Z"
    }
   },
   "outputs": [
    {
     "name": "stderr",
     "output_type": "stream",
     "text": [
      "/Library/Frameworks/Python.framework/Versions/3.12/lib/python3.12/site-packages/torch/utils/data/dataloader.py:683: UserWarning: 'pin_memory' argument is set as true but not supported on MPS now, then device pinned memory won't be used.\n",
      "  warnings.warn(warn_msg)\n"
     ]
    },
    {
     "data": {
      "text/html": [
       "\n",
       "    <div>\n",
       "      \n",
       "      <progress value='987' max='987' style='width:300px; height:20px; vertical-align: middle;'></progress>\n",
       "      [987/987 07:39, Epoch 2/3]\n",
       "    </div>\n",
       "    <table border=\"1\" class=\"dataframe\">\n",
       "  <thead>\n",
       " <tr style=\"text-align: left;\">\n",
       "      <th>Step</th>\n",
       "      <th>Training Loss</th>\n",
       "    </tr>\n",
       "  </thead>\n",
       "  <tbody>\n",
       "    <tr>\n",
       "      <td>50</td>\n",
       "      <td>0.491500</td>\n",
       "    </tr>\n",
       "    <tr>\n",
       "      <td>100</td>\n",
       "      <td>0.380500</td>\n",
       "    </tr>\n",
       "    <tr>\n",
       "      <td>150</td>\n",
       "      <td>0.324400</td>\n",
       "    </tr>\n",
       "    <tr>\n",
       "      <td>200</td>\n",
       "      <td>0.261500</td>\n",
       "    </tr>\n",
       "    <tr>\n",
       "      <td>250</td>\n",
       "      <td>0.260400</td>\n",
       "    </tr>\n",
       "    <tr>\n",
       "      <td>300</td>\n",
       "      <td>0.251400</td>\n",
       "    </tr>\n",
       "    <tr>\n",
       "      <td>350</td>\n",
       "      <td>0.239400</td>\n",
       "    </tr>\n",
       "    <tr>\n",
       "      <td>400</td>\n",
       "      <td>0.205700</td>\n",
       "    </tr>\n",
       "    <tr>\n",
       "      <td>450</td>\n",
       "      <td>0.195900</td>\n",
       "    </tr>\n",
       "    <tr>\n",
       "      <td>500</td>\n",
       "      <td>0.204500</td>\n",
       "    </tr>\n",
       "    <tr>\n",
       "      <td>550</td>\n",
       "      <td>0.229900</td>\n",
       "    </tr>\n",
       "    <tr>\n",
       "      <td>600</td>\n",
       "      <td>0.176300</td>\n",
       "    </tr>\n",
       "    <tr>\n",
       "      <td>650</td>\n",
       "      <td>0.190000</td>\n",
       "    </tr>\n",
       "    <tr>\n",
       "      <td>700</td>\n",
       "      <td>0.109000</td>\n",
       "    </tr>\n",
       "    <tr>\n",
       "      <td>750</td>\n",
       "      <td>0.105500</td>\n",
       "    </tr>\n",
       "    <tr>\n",
       "      <td>800</td>\n",
       "      <td>0.134000</td>\n",
       "    </tr>\n",
       "    <tr>\n",
       "      <td>850</td>\n",
       "      <td>0.099500</td>\n",
       "    </tr>\n",
       "    <tr>\n",
       "      <td>900</td>\n",
       "      <td>0.100800</td>\n",
       "    </tr>\n",
       "    <tr>\n",
       "      <td>950</td>\n",
       "      <td>0.098800</td>\n",
       "    </tr>\n",
       "  </tbody>\n",
       "</table><p>"
      ],
      "text/plain": [
       "<IPython.core.display.HTML object>"
      ]
     },
     "metadata": {},
     "output_type": "display_data"
    },
    {
     "name": "stderr",
     "output_type": "stream",
     "text": [
      "/Library/Frameworks/Python.framework/Versions/3.12/lib/python3.12/site-packages/torch/utils/data/dataloader.py:683: UserWarning: 'pin_memory' argument is set as true but not supported on MPS now, then device pinned memory won't be used.\n",
      "  warnings.warn(warn_msg)\n"
     ]
    },
    {
     "data": {
      "text/plain": [
       "TrainOutput(global_step=987, training_loss=0.20840139422856324, metrics={'train_runtime': 465.4918, 'train_samples_per_second': 33.964, 'train_steps_per_second': 2.12, 'total_flos': 522318952900608.0, 'train_loss': 0.20840139422856324, 'epoch': 2.992412746585736})"
      ]
     },
     "execution_count": 10,
     "metadata": {},
     "output_type": "execute_result"
    }
   ],
   "source": [
    "trainer.train()"
   ]
  },
  {
   "cell_type": "code",
   "execution_count": 11,
   "id": "440d08d7f586be2e",
   "metadata": {
    "ExecuteTime": {
     "end_time": "2025-05-10T19:27:30.151191Z",
     "start_time": "2025-05-10T19:27:13.233250Z"
    }
   },
   "outputs": [
    {
     "name": "stderr",
     "output_type": "stream",
     "text": [
      "/Library/Frameworks/Python.framework/Versions/3.12/lib/python3.12/site-packages/torch/utils/data/dataloader.py:683: UserWarning: 'pin_memory' argument is set as true but not supported on MPS now, then device pinned memory won't be used.\n",
      "  warnings.warn(warn_msg)\n"
     ]
    },
    {
     "data": {
      "text/html": [],
      "text/plain": [
       "<IPython.core.display.HTML object>"
      ]
     },
     "metadata": {},
     "output_type": "display_data"
    }
   ],
   "source": [
    "preds = trainer.predict(ds[\"predict\"])\n",
    "pred_labels = preds.predictions.argmax(-1)  # array of 0s and 1s"
   ]
  },
  {
   "cell_type": "code",
   "execution_count": 15,
   "id": "eccde49801d5e794",
   "metadata": {
    "ExecuteTime": {
     "end_time": "2025-05-10T19:32:07.713490Z",
     "start_time": "2025-05-10T19:32:07.689658Z"
    }
   },
   "outputs": [
    {
     "name": "stdout",
     "output_type": "stream",
     "text": [
      "✅ Done — predictions saved to industry_focus_llm.csv\n"
     ]
    }
   ],
   "source": [
    "df = pd.read_csv(\"data/industry-focus/industry_focus.csv\")\n",
    "df[\"pred_label\"] = pred_labels\n",
    "df.to_csv(\"data/industry-focus/industry_focus_llm.csv\", index=False)\n",
    "print(\"✅ Done — predictions saved to industry_focus_llm.csv\")"
   ]
  }
 ],
 "metadata": {
  "kernelspec": {
   "display_name": "Python 3",
   "language": "python",
   "name": "python3"
  },
  "language_info": {
   "codemirror_mode": {
    "name": "ipython",
    "version": 2
   },
   "file_extension": ".py",
   "mimetype": "text/x-python",
   "name": "python",
   "nbconvert_exporter": "python",
   "pygments_lexer": "ipython2",
   "version": "2.7.6"
  }
 },
 "nbformat": 4,
 "nbformat_minor": 5
}
