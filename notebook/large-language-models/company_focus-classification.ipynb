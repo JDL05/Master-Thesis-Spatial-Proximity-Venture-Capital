{
 "cells": [
  {
   "cell_type": "markdown",
   "id": "67590830",
   "metadata": {},
   "source": [
    "# Company Focus Classification (B2C or B2B)"
   ]
  },
  {
   "cell_type": "code",
   "execution_count": 1,
   "id": "89c21944",
   "metadata": {},
   "outputs": [],
   "source": [
    "import os\n",
    "\n",
    "os.chdir('/Users/janlinzner/Projects/Master-Thesis-Spatial-Proximity-Venture-Capital')"
   ]
  },
  {
   "cell_type": "code",
   "execution_count": 2,
   "id": "11e40316",
   "metadata": {},
   "outputs": [],
   "source": [
    "from datasets import load_dataset\n",
    "from datasets import DatasetDict\n",
    "from transformers import (\n",
    "    AutoTokenizer,\n",
    "    AutoModelForSequenceClassification,\n",
    "    TrainingArguments,\n",
    "    Trainer,\n",
    "    DataCollatorWithPadding\n",
    ")\n",
    "import pandas as pd"
   ]
  },
  {
   "cell_type": "code",
   "execution_count": 3,
   "id": "997efbaf",
   "metadata": {},
   "outputs": [],
   "source": [
    "data_files = {\n",
    "    \"train\":   \"data/business_orientation/companies_business_focus_save.csv\",   # has Description & Industry-Specific VC Binary\n",
    "    \"predict\": \"data/business_orientation/companies_business_focus.csv\"        # has Description only\n",
    "}\n",
    "\n",
    "ds = load_dataset(\"csv\", data_files=data_files)\n",
    "\n",
    "ds[\"train\"] = ds[\"train\"] \\\n",
    "    .rename_column(\"Description\", \"text\") \\\n",
    "    .rename_column(\"B2B Binary\", \"label\")\n",
    "\n",
    "ds[\"predict\"] = ds[\"predict\"] \\\n",
    "    .rename_column(\"Description\", \"text\")"
   ]
  },
  {
   "cell_type": "code",
   "execution_count": 4,
   "id": "742abbf0",
   "metadata": {},
   "outputs": [
    {
     "name": "stderr",
     "output_type": "stream",
     "text": [
      "Some weights of DistilBertForSequenceClassification were not initialized from the model checkpoint at distilbert-base-uncased and are newly initialized: ['classifier.bias', 'classifier.weight', 'pre_classifier.bias', 'pre_classifier.weight']\n",
      "You should probably TRAIN this model on a down-stream task to be able to use it for predictions and inference.\n"
     ]
    }
   ],
   "source": [
    "model_name = \"distilbert-base-uncased\" \n",
    "tokenizer  = AutoTokenizer.from_pretrained(model_name)\n",
    "model      = AutoModelForSequenceClassification.from_pretrained(\n",
    "    model_name,\n",
    "    num_labels=2                     \n",
    ")"
   ]
  },
  {
   "cell_type": "code",
   "execution_count": 5,
   "id": "b1cd449b",
   "metadata": {},
   "outputs": [],
   "source": [
    "def preprocess_train(batch):\n",
    "    toks = tokenizer(\n",
    "        batch[\"text\"],\n",
    "        truncation=True,\n",
    "        padding=\"max_length\",\n",
    "        max_length=128\n",
    "    )\n",
    "    toks[\"labels\"] = batch[\"label\"] \n",
    "    return toks\n",
    "\n",
    "ds[\"train\"] = ds[\"train\"].map(\n",
    "    preprocess_train,\n",
    "    batched=True,\n",
    "    remove_columns=[\n",
    "        \"Organization Name\",\n",
    "        \"Organization Name URL\",\n",
    "        \"text\",\n",
    "        \"label\"\n",
    "    ]\n",
    ")\n",
    "\n",
    "train_test_split = ds[\"train\"].train_test_split(test_size=0.2, seed=42)\n",
    "ds = DatasetDict({\n",
    "    \"train\": train_test_split[\"train\"],\n",
    "    \"validation\": train_test_split[\"test\"],\n",
    "    \"predict\": ds[\"predict\"]\n",
    "})"
   ]
  },
  {
   "cell_type": "code",
   "execution_count": 6,
   "id": "7fc0a2fb",
   "metadata": {},
   "outputs": [
    {
     "data": {
      "application/vnd.jupyter.widget-view+json": {
       "model_id": "75e32f19f99a4572bc910ca304a7acc0",
       "version_major": 2,
       "version_minor": 0
      },
      "text/plain": [
       "Map:   0%|          | 0/17943 [00:00<?, ? examples/s]"
      ]
     },
     "metadata": {},
     "output_type": "display_data"
    }
   ],
   "source": [
    "def preprocess_predict(batch):\n",
    "    return tokenizer(\n",
    "        batch[\"text\"],\n",
    "        truncation=True,\n",
    "        padding=\"max_length\",\n",
    "        max_length=128\n",
    "    )\n",
    "\n",
    "ds[\"predict\"] = ds[\"predict\"].map(\n",
    "    preprocess_predict,\n",
    "    batched=True,\n",
    "    remove_columns=[\"text\"]\n",
    ")"
   ]
  },
  {
   "cell_type": "code",
   "execution_count": 7,
   "id": "fcfa1398",
   "metadata": {},
   "outputs": [],
   "source": [
    "data_collator = DataCollatorWithPadding(tokenizer)"
   ]
  },
  {
   "cell_type": "code",
   "execution_count": null,
   "id": "c2ab7a90",
   "metadata": {},
   "outputs": [],
   "source": [
    "training_args = TrainingArguments(\n",
    "    output_dir=\"distilbert_finetuned_vc\",\n",
    "    logging_steps = 100 ,\n",
    "    per_device_train_batch_size=8,\n",
    "    gradient_accumulation_steps=2,\n",
    "    num_train_epochs=4,\n",
    "    learning_rate=2e-5,\n",
    "    weight_decay=0.01,\n",
    "    eval_strategy=\"steps\",       \n",
    "    eval_steps=100,                \n",
    "    save_strategy=\"steps\",\n",
    "    save_steps=100,               \n",
    "    save_total_limit=1,          \n",
    "    load_best_model_at_end=True,\n",
    "    metric_for_best_model=\"eval_loss\",\n",
    "    greater_is_better=False,  \n",
    "    seed=42\n",
    ")"
   ]
  },
  {
   "cell_type": "code",
   "execution_count": 9,
   "id": "bfb632ba",
   "metadata": {},
   "outputs": [
    {
     "name": "stderr",
     "output_type": "stream",
     "text": [
      "/var/folders/n8/ynbdx9r10lv6l8yh1m_hmbsh0000gn/T/ipykernel_93152/741888532.py:1: FutureWarning: `tokenizer` is deprecated and will be removed in version 5.0.0 for `Trainer.__init__`. Use `processing_class` instead.\n",
      "  trainer = Trainer(\n"
     ]
    }
   ],
   "source": [
    "trainer = Trainer(\n",
    "    model=model,\n",
    "    args=training_args,\n",
    "    train_dataset=ds[\"train\"],\n",
    "    eval_dataset=ds[\"validation\"],  \n",
    "    data_collator=data_collator,\n",
    "    tokenizer=tokenizer\n",
    ")"
   ]
  },
  {
   "cell_type": "code",
   "execution_count": 10,
   "id": "e046c57b",
   "metadata": {},
   "outputs": [
    {
     "name": "stderr",
     "output_type": "stream",
     "text": [
      "/Library/Frameworks/Python.framework/Versions/3.12/lib/python3.12/site-packages/torch/utils/data/dataloader.py:683: UserWarning: 'pin_memory' argument is set as true but not supported on MPS now, then device pinned memory won't be used.\n",
      "  warnings.warn(warn_msg)\n"
     ]
    },
    {
     "data": {
      "text/html": [
       "\n",
       "    <div>\n",
       "      \n",
       "      <progress value='300' max='300' style='width:300px; height:20px; vertical-align: middle;'></progress>\n",
       "      [300/300 02:37, Epoch 4/4]\n",
       "    </div>\n",
       "    <table border=\"1\" class=\"dataframe\">\n",
       "  <thead>\n",
       " <tr style=\"text-align: left;\">\n",
       "      <th>Step</th>\n",
       "      <th>Training Loss</th>\n",
       "      <th>Validation Loss</th>\n",
       "    </tr>\n",
       "  </thead>\n",
       "  <tbody>\n",
       "    <tr>\n",
       "      <td>100</td>\n",
       "      <td>0.470900</td>\n",
       "      <td>0.346587</td>\n",
       "    </tr>\n",
       "    <tr>\n",
       "      <td>200</td>\n",
       "      <td>0.283100</td>\n",
       "      <td>0.358676</td>\n",
       "    </tr>\n",
       "    <tr>\n",
       "      <td>300</td>\n",
       "      <td>0.168800</td>\n",
       "      <td>0.373016</td>\n",
       "    </tr>\n",
       "  </tbody>\n",
       "</table><p>"
      ],
      "text/plain": [
       "<IPython.core.display.HTML object>"
      ]
     },
     "metadata": {},
     "output_type": "display_data"
    },
    {
     "name": "stderr",
     "output_type": "stream",
     "text": [
      "/Library/Frameworks/Python.framework/Versions/3.12/lib/python3.12/site-packages/torch/utils/data/dataloader.py:683: UserWarning: 'pin_memory' argument is set as true but not supported on MPS now, then device pinned memory won't be used.\n",
      "  warnings.warn(warn_msg)\n",
      "/Library/Frameworks/Python.framework/Versions/3.12/lib/python3.12/site-packages/torch/utils/data/dataloader.py:683: UserWarning: 'pin_memory' argument is set as true but not supported on MPS now, then device pinned memory won't be used.\n",
      "  warnings.warn(warn_msg)\n",
      "/Library/Frameworks/Python.framework/Versions/3.12/lib/python3.12/site-packages/torch/utils/data/dataloader.py:683: UserWarning: 'pin_memory' argument is set as true but not supported on MPS now, then device pinned memory won't be used.\n",
      "  warnings.warn(warn_msg)\n"
     ]
    },
    {
     "data": {
      "text/html": [],
      "text/plain": [
       "<IPython.core.display.HTML object>"
      ]
     },
     "metadata": {},
     "output_type": "display_data"
    },
    {
     "name": "stdout",
     "output_type": "stream",
     "text": [
      "Validation Loss: 0.34658700227737427\n"
     ]
    }
   ],
   "source": [
    "trainer.train()\n",
    "validation_metrics = trainer.evaluate()\n",
    "print(\"Validation Loss:\", validation_metrics[\"eval_loss\"])"
   ]
  },
  {
   "cell_type": "code",
   "execution_count": null,
   "id": "cb059884",
   "metadata": {},
   "outputs": [],
   "source": [
    "preds = trainer.predict(ds[\"predict\"])\n",
    "pred_labels = preds.predictions.argmax(-1)"
   ]
  },
  {
   "cell_type": "code",
   "execution_count": null,
   "id": "530336ae",
   "metadata": {},
   "outputs": [
    {
     "name": "stdout",
     "output_type": "stream",
     "text": [
      "✅ Done — predictions saved to industry_focus_llm.csv\n"
     ]
    }
   ],
   "source": [
    "df = pd.read_csv(\"data/business_orientation/companies_business_focus.csv\")\n",
    "df[\"pred_label\"] = pred_labels\n",
    "df.to_csv(\"data/business_orientation/companies_business_focus_llm.csv\", index=False)\n",
    "print(\"✅ Done — predictions saved to companies_business_focus_llm.csv\")"
   ]
  },
  {
   "cell_type": "code",
   "execution_count": null,
   "id": "a710183a",
   "metadata": {},
   "outputs": [],
   "source": [
    "focus_path = 'data/business_orientation/companies_business_focus_save.csv'\n",
    "existing = pd.read_csv(focus_path)\n",
    "\n",
    "merged = companies.merge(\n",
    "    existing[['Organization Name', 'Organization Name URL', 'B2B Binary']],\n",
    "    on=['Organization Name', 'Organization Name URL'],\n",
    "    how='left'\n",
    ")\n",
    "\n",
    "annot_df = merged[[\n",
    "    'Organization Name',\n",
    "    'Description',\n",
    "    'Organization Name URL',\n",
    "    'B2B Binary'\n",
    "]].copy()\n",
    "\n",
    "annot_df['B2B Binary'] = annot_df['B2B Binary'] \\\n",
    "    .map({1: '1', 0: '0'}) \\\n",
    "    .fillna('')\n",
    "\n",
    "to_annotate = annot_df[annot_df['B2B Binary'] == '']\n",
    "\n",
    "to_annotate.to_csv(\n",
    "    'data/business_orientation/companies_business_focus.csv',\n",
    "    index=False\n",
    ")"
   ]
  },
  {
   "cell_type": "code",
   "execution_count": null,
   "id": "cc2bb2b9",
   "metadata": {},
   "outputs": [],
   "source": [
    "company_focus = pd.read_csv('data/business_orientation/companies_business_focus_save.csv')\n",
    "\n",
    "companies = companies.merge(\n",
    "    company_focus[['Organization Name',\n",
    "                    'Organization Name URL',\n",
    "                    'B2B Binary']],\n",
    "    on=['Organization Name', 'Organization Name URL'],\n",
    "    how='left'\n",
    ")\n",
    "\n",
    "companies['B2B Binary'] = (\n",
    "    companies['B2B Binary']\n",
    "    .fillna(0)\n",
    "    .astype(int)\n",
    "    .astype('boolean')\n",
    ")"
   ]
  }
 ],
 "metadata": {
  "kernelspec": {
   "display_name": "Python 3",
   "language": "python",
   "name": "python3"
  },
  "language_info": {
   "codemirror_mode": {
    "name": "ipython",
    "version": 3
   },
   "file_extension": ".py",
   "mimetype": "text/x-python",
   "name": "python",
   "nbconvert_exporter": "python",
   "pygments_lexer": "ipython3",
   "version": "3.12.5"
  }
 },
 "nbformat": 4,
 "nbformat_minor": 5
}
